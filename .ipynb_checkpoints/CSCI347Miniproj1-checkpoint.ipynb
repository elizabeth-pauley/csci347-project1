{
 "cells": [
  {
   "cell_type": "code",
   "execution_count": 44,
   "id": "ccc00c59",
   "metadata": {},
   "outputs": [],
   "source": [
    "import pandas as pd"
   ]
  },
  {
   "cell_type": "code",
   "execution_count": 45,
   "id": "7c41b121",
   "metadata": {
    "scrolled": false
   },
   "outputs": [],
   "source": [
    "raisin = pd.read_csv('Raisin_Dataset.csv', header=0)"
   ]
  },
  {
   "cell_type": "code",
   "execution_count": 46,
   "id": "ab2f776e-c26e-4cce-a017-baafcc395fd1",
   "metadata": {},
   "outputs": [
    {
     "name": "stdout",
     "output_type": "stream",
     "text": [
      "Mean values: [4.0, 5.0, 6.0]\n"
     ]
    }
   ],
   "source": [
    "def computeMean(array):\n",
    "    numRows = len(array)\n",
    "    numCols = len(array[0])\n",
    "    \n",
    "    colSums = [0] * numCols\n",
    "    \n",
    "    for row in array:\n",
    "        for i in range(numCols):\n",
    "            colSums[i] += row[i]\n",
    "    \n",
    "    means = [sum / numRows for sum in colSums]\n",
    "    \n",
    "    return means\n",
    "\n",
    "array = [[1, 2, 3],\n",
    "        [4, 5, 6],\n",
    "        [7, 8, 9]]\n",
    "\n",
    "datasetMean = computeMean(array)\n",
    "print(\"Mean values:\", datasetMean)"
   ]
  },
  {
   "cell_type": "code",
   "execution_count": 47,
   "id": "4b58f611-c603-49c5-bc4b-c6a10ce2d2b1",
   "metadata": {},
   "outputs": [
    {
     "name": "stdout",
     "output_type": "stream",
     "text": [
      "Sample covariance: -2.5\n"
     ]
    }
   ],
   "source": [
    "def computeSampleCovariance(x, y):\n",
    "    xLength = len(x)\n",
    "    \n",
    "    xMean = sum(x) / xLength\n",
    "    yMean = sum(y) / xLength\n",
    "    \n",
    "    covariance = 0\n",
    "    for i in range(xLength):\n",
    "        covariance += (x[i] - xMean) * (y[i] - yMean)\n",
    "    \n",
    "    covariance /= (xLength - 1)\n",
    "    \n",
    "    return covariance\n",
    "\n",
    "x = [1, 2, 3, 4, 5]\n",
    "y = [5, 4, 3, 2, 1]\n",
    "\n",
    "covariance = computeSampleCovariance(x, y)\n",
    "print(\"Sample covariance:\", covariance)"
   ]
  },
  {
   "cell_type": "code",
   "execution_count": 48,
   "id": "c3bb6813-3423-492c-baf4-04f9a594725d",
   "metadata": {},
   "outputs": [
    {
     "name": "stdout",
     "output_type": "stream",
     "text": [
      "Correlation: -0.9999999999999998\n"
     ]
    }
   ],
   "source": [
    "def computeCorrelation(x, y):\n",
    "    xLength = len(x)\n",
    "    \n",
    "    xMean = sum(x) / xLength\n",
    "    yMean = sum(y) / xLength\n",
    "    \n",
    "    covariance = 0\n",
    "    for i in range(xLength):\n",
    "        covariance += (x[i] - xMean) * (y[i] - yMean)\n",
    "    covariance /= (xLength - 1)\n",
    "    \n",
    "    xStdDev = (sum((xi - xMean) ** 2 for xi in x) / (xLength - 1)) ** 0.5\n",
    "    yStdDev = (sum((yi - yMean) ** 2 for yi in y) / (xLength - 1)) ** 0.5\n",
    "    \n",
    "    correlation = covariance / (xStdDev * yStdDev)\n",
    "    \n",
    "    return correlation\n",
    "\n",
    "x = [1, 2, 3, 4, 5]\n",
    "y = [5, 4, 3, 2, 1]\n",
    "\n",
    "correlation = computeCorrelation(x, y)\n",
    "print(\"Correlation:\", correlation)"
   ]
  },
  {
   "cell_type": "code",
   "execution_count": 49,
   "id": "58b5752e-31ce-4661-8540-1cdf0c8055be",
   "metadata": {},
   "outputs": [
    {
     "name": "stdout",
     "output_type": "stream",
     "text": [
      "Normalized data:\n",
      "[0.0, 0.0, 0.0]\n",
      "[0.5, 0.5, 0.5]\n",
      "[1.0, 1.0, 1.0]\n"
     ]
    }
   ],
   "source": [
    "def rangeNormalize(data):\n",
    "    minValues = [min(col) for col in zip(*data)]\n",
    "    maxValues = [max(col) for col in zip(*data)]\n",
    "    \n",
    "    normalizedData = []\n",
    "    for row in data:\n",
    "        normalizedRow = []\n",
    "        for val, minVal, maxVal in zip(row, minValues, maxValues):\n",
    "            normalizedVal = (val - minVal) / (maxVal - minVal)\n",
    "            normalizedRow.append(normalizedVal)\n",
    "        normalizedData.append(normalizedRow)\n",
    "    \n",
    "    return normalizedData\n",
    "\n",
    "data = [[1, 2, 3],\n",
    "        [4, 5, 6],\n",
    "        [7, 8, 9]]\n",
    "\n",
    "normalizedData = rangeNormalize(data)\n",
    "print(\"Normalized data:\")\n",
    "for row in normalizedData:\n",
    "    print(row)"
   ]
  },
  {
   "cell_type": "code",
   "execution_count": 50,
   "id": "e800aab4-1bdd-46ef-b475-4a646665580f",
   "metadata": {},
   "outputs": [
    {
     "name": "stdout",
     "output_type": "stream",
     "text": [
      "Normalized data:\n",
      "[-1.2247448713915892, -1.2247448713915892, -1.2247448713915892]\n",
      "[0.0, 0.0, 0.0]\n",
      "[1.2247448713915892, 1.2247448713915892, 1.2247448713915892]\n"
     ]
    }
   ],
   "source": [
    "def standardNormalize(data):\n",
    "    numRows = len(data)\n",
    "    numCols = len(data[0])\n",
    "    \n",
    "    means = [sum(col) / numRows for col in zip(*data)]\n",
    "    stdDevs = [(sum((val - means[i]) ** 2 for val in col) / numRows) ** 0.5 for i, col in enumerate(zip(*data))]\n",
    "    \n",
    "    normalizedData = []\n",
    "    for row in data:\n",
    "        normalizedRow = []\n",
    "        for val, mean, stdDev in zip(row, means, stdDevs):\n",
    "            normalizedVal = (val - mean) / stdDev if stdDev != 0 else val\n",
    "            normalizedRow.append(normalizedVal)\n",
    "        normalizedData.append(normalizedRow)\n",
    "    \n",
    "    return normalizedData\n",
    "\n",
    "data = [[1, 2, 3],\n",
    "        [4, 5, 6],\n",
    "        [7, 8, 9]]\n",
    "\n",
    "normalizedData = standardNormalize(data)\n",
    "print(\"Normalized data:\")\n",
    "for row in normalizedData:\n",
    "    print(row)\n"
   ]
  },
  {
   "cell_type": "code",
   "execution_count": 51,
   "id": "b68a15ee-5e9b-4bdc-a3d9-47e37de5b960",
   "metadata": {},
   "outputs": [
    {
     "name": "stdout",
     "output_type": "stream",
     "text": [
      "Covariance matrix:\n",
      "[9.0, 9.0, 9.0]\n",
      "[9.0, 9.0, 9.0]\n",
      "[9.0, 9.0, 9.0]\n"
     ]
    }
   ],
   "source": [
    "def computeCovarianceMatrix(array):\n",
    "    numRows = len(array)\n",
    "    numCols = len(array[0])\n",
    "    \n",
    "    means = [sum(col) / numRows for col in zip(*data)]\n",
    "    \n",
    "    covarianceMatrix = [[0] * numCols for _ in range(numCols)]\n",
    "    \n",
    "    for i in range(numCols):\n",
    "        for j in range(numCols):\n",
    "            covariance = 0\n",
    "            for k in range(numRows):\n",
    "                covariance += (array[k][i] - means[i]) * (array[k][j] - means[j])\n",
    "            covariance /= (numRows - 1)\n",
    "            covarianceMatrix[i][j] = covariance\n",
    "    \n",
    "    return covarianceMatrix\n",
    "\n",
    "array = [[1, 2, 3],\n",
    "        [4, 5, 6],\n",
    "        [7, 8, 9]]\n",
    "\n",
    "covarianceMatrix = computeCovarianceMatrix(array)\n",
    "print(\"Covariance matrix:\")\n",
    "for row in covarianceMatrix:\n",
    "    print(row)"
   ]
  },
  {
   "cell_type": "code",
   "execution_count": 65,
   "id": "8fd1fffc-d819-43d1-a6e8-76695fef5644",
   "metadata": {},
   "outputs": [],
   "source": [
    "def labelEncode(array):\n",
    "    uniqueCategories = set()\n",
    "    \n",
    "    # create set of unique values present in a column\n",
    "    for item in array:\n",
    "        uniqueCategories.add(item)\n",
    "    \n",
    "    # enumerate values in the set, assigning each value to an integer equivalent\n",
    "    categoryToLabel = {category: i for i, category in enumerate(uniqueCategories)}\n",
    "    \n",
    "    # replace each column value in the dataset with its integer equivalent\n",
    "    print(len(array))\n",
    "    for i in range(len(array)):\n",
    "        array[i] = categoryToLabel[item]"
   ]
  },
  {
   "cell_type": "code",
   "execution_count": 68,
   "id": "e95c0caa-88da-4825-b094-2a92b1c3507e",
   "metadata": {},
   "outputs": [
    {
     "name": "stdout",
     "output_type": "stream",
     "text": [
      "900\n"
     ]
    }
   ],
   "source": [
    "# ignore warning regarding chained indexing, that is not what is happening;\n",
    "# we want to modify the df directly\n",
    "pd.options.mode.chained_assignment = None\n",
    "labelEncode(raisin['Class'])"
   ]
  }
 ],
 "metadata": {
  "kernelspec": {
   "display_name": "Python 3 (ipykernel)",
   "language": "python",
   "name": "python3"
  },
  "language_info": {
   "codemirror_mode": {
    "name": "ipython",
    "version": 3
   },
   "file_extension": ".py",
   "mimetype": "text/x-python",
   "name": "python",
   "nbconvert_exporter": "python",
   "pygments_lexer": "ipython3",
   "version": "3.11.5"
  }
 },
 "nbformat": 4,
 "nbformat_minor": 5
}
