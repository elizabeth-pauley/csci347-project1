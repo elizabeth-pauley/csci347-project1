{
 "cells": [
  {
   "cell_type": "code",
   "execution_count": 2,
   "id": "6888e2be",
   "metadata": {},
   "outputs": [],
   "source": [
    "import pandas as pd"
   ]
  },
  {
   "cell_type": "code",
   "execution_count": 3,
   "id": "ec87f91d",
   "metadata": {
    "scrolled": false
   },
   "outputs": [],
   "source": [
    "raisin = pd.read_csv('Raisin_Dataset.csv', header=0)"
   ]
  },
  {
   "cell_type": "code",
   "execution_count": 18,
   "id": "ab2f776e-c26e-4cce-a017-baafcc395fd1",
   "metadata": {},
   "outputs": [
    {
     "ename": "AttributeError",
     "evalue": "'list' object has no attribute 'columns'",
     "output_type": "error",
     "traceback": [
      "\u001b[1;31m---------------------------------------------------------------------------\u001b[0m",
      "\u001b[1;31mAttributeError\u001b[0m                            Traceback (most recent call last)",
      "Cell \u001b[1;32mIn[18], line 19\u001b[0m\n\u001b[0;32m     13\u001b[0m     \u001b[38;5;28;01mreturn\u001b[39;00m means\n\u001b[0;32m     15\u001b[0m array \u001b[38;5;241m=\u001b[39m [[\u001b[38;5;241m1\u001b[39m, \u001b[38;5;241m2\u001b[39m, \u001b[38;5;241m3\u001b[39m],\n\u001b[0;32m     16\u001b[0m         [\u001b[38;5;241m4\u001b[39m, \u001b[38;5;241m5\u001b[39m, \u001b[38;5;241m6\u001b[39m],\n\u001b[0;32m     17\u001b[0m         [\u001b[38;5;241m7\u001b[39m, \u001b[38;5;241m8\u001b[39m, \u001b[38;5;241m9\u001b[39m]]\n\u001b[1;32m---> 19\u001b[0m datasetMean \u001b[38;5;241m=\u001b[39m computeMean(array)\n\u001b[0;32m     20\u001b[0m \u001b[38;5;28mprint\u001b[39m(\u001b[38;5;124m\"\u001b[39m\u001b[38;5;124mMean values:\u001b[39m\u001b[38;5;124m\"\u001b[39m, datasetMean)\n",
      "Cell \u001b[1;32mIn[18], line 3\u001b[0m, in \u001b[0;36mcomputeMean\u001b[1;34m(array)\u001b[0m\n\u001b[0;32m      1\u001b[0m \u001b[38;5;28;01mdef\u001b[39;00m \u001b[38;5;21mcomputeMean\u001b[39m(array):\n\u001b[0;32m      2\u001b[0m     numRows \u001b[38;5;241m=\u001b[39m \u001b[38;5;28mlen\u001b[39m(array)\n\u001b[1;32m----> 3\u001b[0m     numCols \u001b[38;5;241m=\u001b[39m \u001b[38;5;28mlen\u001b[39m(array\u001b[38;5;241m.\u001b[39mcolumns)\n\u001b[0;32m      5\u001b[0m     colSums \u001b[38;5;241m=\u001b[39m [\u001b[38;5;241m0\u001b[39m] \u001b[38;5;241m*\u001b[39m numCols\n\u001b[0;32m      7\u001b[0m     \u001b[38;5;28;01mfor\u001b[39;00m row \u001b[38;5;129;01min\u001b[39;00m array:\n",
      "\u001b[1;31mAttributeError\u001b[0m: 'list' object has no attribute 'columns'"
     ]
    }
   ],
   "source": [
    "def computeMean(array):\n",
    "    numRows = len(array)\n",
    "    numCols = len(array.columns)\n",
    "    \n",
    "    colSums = [0] * numCols\n",
    "    \n",
    "    for row in array:\n",
    "        for i in range(numCols):\n",
    "            colSums[i] += row[i]\n",
    "    \n",
    "    means = [sum / numRows for sum in colSums]\n",
    "    \n",
    "    return means\n",
    "\n",
    "array = [[1, 2, 3],\n",
    "        [4, 5, 6],\n",
    "        [7, 8, 9]]\n",
    "\n",
    "datasetMean = computeMean(array)\n",
    "print(\"Mean values:\", datasetMean)"
   ]
  },
  {
   "cell_type": "code",
   "execution_count": 5,
   "id": "4b58f611-c603-49c5-bc4b-c6a10ce2d2b1",
   "metadata": {},
   "outputs": [
    {
     "name": "stdout",
     "output_type": "stream",
     "text": [
      "Sample covariance: -2.5\n"
     ]
    }
   ],
   "source": [
    "def computeSampleCovariance(x, y):\n",
    "    xLength = len(x)\n",
    "    \n",
    "    xMean = sum(x) / xLength\n",
    "    yMean = sum(y) / xLength\n",
    "    \n",
    "    covariance = 0\n",
    "    for i in range(xLength):\n",
    "        covariance += (x[i] - xMean) * (y[i] - yMean)\n",
    "    \n",
    "    covariance /= (xLength - 1)\n",
    "    \n",
    "    return covariance\n",
    "\n",
    "x = [1, 2, 3, 4, 5]\n",
    "y = [5, 4, 3, 2, 1]\n",
    "\n",
    "covariance = computeSampleCovariance(x, y)\n",
    "print(\"Sample covariance:\", covariance)"
   ]
  },
  {
   "cell_type": "code",
   "execution_count": 6,
   "id": "c3bb6813-3423-492c-baf4-04f9a594725d",
   "metadata": {},
   "outputs": [
    {
     "name": "stdout",
     "output_type": "stream",
     "text": [
      "Correlation: -0.9999999999999998\n"
     ]
    }
   ],
   "source": [
    "def computeCorrelation(x, y):\n",
    "    xLength = len(x)\n",
    "    \n",
    "    xMean = sum(x) / xLength\n",
    "    yMean = sum(y) / xLength\n",
    "    \n",
    "    covariance = 0\n",
    "    for i in range(xLength):\n",
    "        covariance += (x[i] - xMean) * (y[i] - yMean)\n",
    "    covariance /= (xLength - 1)\n",
    "    \n",
    "    xStdDev = (sum((xi - xMean) ** 2 for xi in x) / (xLength - 1)) ** 0.5\n",
    "    yStdDev = (sum((yi - yMean) ** 2 for yi in y) / (xLength - 1)) ** 0.5\n",
    "    \n",
    "    correlation = covariance / (xStdDev * yStdDev)\n",
    "    \n",
    "    return correlation\n",
    "\n",
    "x = [1, 2, 3, 4, 5]\n",
    "y = [5, 4, 3, 2, 1]\n",
    "\n",
    "correlation = computeCorrelation(x, y)\n",
    "print(\"Correlation:\", correlation)"
   ]
  },
  {
   "cell_type": "code",
   "execution_count": 7,
   "id": "58b5752e-31ce-4661-8540-1cdf0c8055be",
   "metadata": {},
   "outputs": [
    {
     "name": "stdout",
     "output_type": "stream",
     "text": [
      "Normalized data:\n",
      "[0.0, 0.0, 0.0]\n",
      "[0.5, 0.5, 0.5]\n",
      "[1.0, 1.0, 1.0]\n"
     ]
    }
   ],
   "source": [
    "def rangeNormalize(data):\n",
    "    minValues = [min(col) for col in zip(*data)]\n",
    "    maxValues = [max(col) for col in zip(*data)]\n",
    "    \n",
    "    normalizedData = []\n",
    "    for row in data:\n",
    "        normalizedRow = []\n",
    "        for val, minVal, maxVal in zip(row, minValues, maxValues):\n",
    "            normalizedVal = (val - minVal) / (maxVal - minVal)\n",
    "            normalizedRow.append(normalizedVal)\n",
    "        normalizedData.append(normalizedRow)\n",
    "    \n",
    "    return normalizedData\n",
    "\n",
    "data = [[1, 2, 3],\n",
    "        [4, 5, 6],\n",
    "        [7, 8, 9]]\n",
    "\n",
    "normalizedData = rangeNormalize(data)\n",
    "print(\"Normalized data:\")\n",
    "for row in normalizedData:\n",
    "    print(row)"
   ]
  },
  {
   "cell_type": "code",
   "execution_count": 8,
   "id": "e800aab4-1bdd-46ef-b475-4a646665580f",
   "metadata": {},
   "outputs": [
    {
     "name": "stdout",
     "output_type": "stream",
     "text": [
      "Normalized data:\n",
      "[-1.2247448713915892, -1.2247448713915892, -1.2247448713915892]\n",
      "[0.0, 0.0, 0.0]\n",
      "[1.2247448713915892, 1.2247448713915892, 1.2247448713915892]\n"
     ]
    }
   ],
   "source": [
    "def standardNormalize(data):\n",
    "    numRows = len(data)\n",
    "    numCols = len(data[0])\n",
    "    \n",
    "    means = [sum(col) / numRows for col in zip(*data)]\n",
    "    stdDevs = [(sum((val - means[i]) ** 2 for val in col) / numRows) ** 0.5 for i, col in enumerate(zip(*data))]\n",
    "    \n",
    "    normalizedData = []\n",
    "    for row in data:\n",
    "        normalizedRow = []\n",
    "        for val, mean, stdDev in zip(row, means, stdDevs):\n",
    "            normalizedVal = (val - mean) / stdDev if stdDev != 0 else val\n",
    "            normalizedRow.append(normalizedVal)\n",
    "        normalizedData.append(normalizedRow)\n",
    "    \n",
    "    return normalizedData\n",
    "\n",
    "data = [[1, 2, 3],\n",
    "        [4, 5, 6],\n",
    "        [7, 8, 9]]\n",
    "\n",
    "normalizedData = standardNormalize(data)\n",
    "print(\"Normalized data:\")\n",
    "for row in normalizedData:\n",
    "    print(row)\n"
   ]
  },
  {
   "cell_type": "code",
   "execution_count": 9,
   "id": "b68a15ee-5e9b-4bdc-a3d9-47e37de5b960",
   "metadata": {},
   "outputs": [
    {
     "name": "stdout",
     "output_type": "stream",
     "text": [
      "Covariance matrix:\n",
      "[9.0, 9.0, 9.0]\n",
      "[9.0, 9.0, 9.0]\n",
      "[9.0, 9.0, 9.0]\n"
     ]
    }
   ],
   "source": [
    "def computeCovarianceMatrix(array):\n",
    "    numRows = len(array)\n",
    "    numCols = len(array[0])\n",
    "    \n",
    "    means = [sum(col) / numRows for col in zip(*data)]\n",
    "    \n",
    "    covarianceMatrix = [[0] * numCols for _ in range(numCols)]\n",
    "    \n",
    "    for i in range(numCols):\n",
    "        for j in range(numCols):\n",
    "            covariance = 0\n",
    "            for k in range(numRows):\n",
    "                covariance += (array[k][i] - means[i]) * (array[k][j] - means[j])\n",
    "            covariance /= (numRows - 1)\n",
    "            covarianceMatrix[i][j] = covariance\n",
    "    \n",
    "    return covarianceMatrix\n",
    "\n",
    "array = [[1, 2, 3],\n",
    "        [4, 5, 6],\n",
    "        [7, 8, 9]]\n",
    "\n",
    "covarianceMatrix = computeCovarianceMatrix(array)\n",
    "print(\"Covariance matrix:\")\n",
    "for row in covarianceMatrix:\n",
    "    print(row)"
   ]
  },
  {
   "cell_type": "code",
   "execution_count": 10,
   "id": "8fd1fffc-d819-43d1-a6e8-76695fef5644",
   "metadata": {},
   "outputs": [],
   "source": [
    "def labelEncode(array):\n",
    "    uniqueCategories = set()\n",
    "    \n",
    "    # create set of unique values present in a column\n",
    "    for item in array:\n",
    "        uniqueCategories.add(item)\n",
    "    \n",
    "    # enumerate values in the set, assigning each value to an integer equivalent\n",
    "    categoryToLabel = {category: i for i, category in enumerate(uniqueCategories)}\n",
    "    \n",
    "    # replace each column value in the dataset with its integer equivalent\n",
    "    print(len(array))\n",
    "    for i in range(len(array)):\n",
    "        array[i] = categoryToLabel[item]"
   ]
  },
  {
   "cell_type": "code",
   "execution_count": 11,
   "id": "e95c0caa-88da-4825-b094-2a92b1c3507e",
   "metadata": {},
   "outputs": [
    {
     "name": "stdout",
     "output_type": "stream",
     "text": [
      "900\n"
     ]
    }
   ],
   "source": [
    "# ignore warning regarding chained indexing, that is not what is happening;\n",
    "# we want to modify the df directly\n",
    "pd.options.mode.chained_assignment = None\n",
    "labelEncode(raisin['Class'])"
   ]
  },
  {
   "cell_type": "code",
   "execution_count": 13,
   "id": "373f69b6",
   "metadata": {},
   "outputs": [
    {
     "data": {
      "text/plain": [
       "Area               0\n",
       "MajorAxisLength    0\n",
       "MinorAxisLength    0\n",
       "Eccentricity       0\n",
       "ConvexArea         0\n",
       "Extent             0\n",
       "Perimeter          0\n",
       "Class              0\n",
       "dtype: int64"
      ]
     },
     "execution_count": 13,
     "metadata": {},
     "output_type": "execute_result"
    }
   ],
   "source": [
    "# there are no missing values in our dataset\n",
    "raisin.isnull().sum()"
   ]
  },
  {
   "cell_type": "code",
   "execution_count": 15,
   "id": "32a895f5",
   "metadata": {},
   "outputs": [
    {
     "ename": "KeyError",
     "evalue": "0",
     "output_type": "error",
     "traceback": [
      "\u001b[1;31m---------------------------------------------------------------------------\u001b[0m",
      "\u001b[1;31mKeyError\u001b[0m                                  Traceback (most recent call last)",
      "File \u001b[1;32m~\\anaconda3\\Lib\\site-packages\\pandas\\core\\indexes\\base.py:3653\u001b[0m, in \u001b[0;36mIndex.get_loc\u001b[1;34m(self, key)\u001b[0m\n\u001b[0;32m   3652\u001b[0m \u001b[38;5;28;01mtry\u001b[39;00m:\n\u001b[1;32m-> 3653\u001b[0m     \u001b[38;5;28;01mreturn\u001b[39;00m \u001b[38;5;28mself\u001b[39m\u001b[38;5;241m.\u001b[39m_engine\u001b[38;5;241m.\u001b[39mget_loc(casted_key)\n\u001b[0;32m   3654\u001b[0m \u001b[38;5;28;01mexcept\u001b[39;00m \u001b[38;5;167;01mKeyError\u001b[39;00m \u001b[38;5;28;01mas\u001b[39;00m err:\n",
      "File \u001b[1;32m~\\anaconda3\\Lib\\site-packages\\pandas\\_libs\\index.pyx:147\u001b[0m, in \u001b[0;36mpandas._libs.index.IndexEngine.get_loc\u001b[1;34m()\u001b[0m\n",
      "File \u001b[1;32m~\\anaconda3\\Lib\\site-packages\\pandas\\_libs\\index.pyx:176\u001b[0m, in \u001b[0;36mpandas._libs.index.IndexEngine.get_loc\u001b[1;34m()\u001b[0m\n",
      "File \u001b[1;32mpandas\\_libs\\hashtable_class_helper.pxi:7080\u001b[0m, in \u001b[0;36mpandas._libs.hashtable.PyObjectHashTable.get_item\u001b[1;34m()\u001b[0m\n",
      "File \u001b[1;32mpandas\\_libs\\hashtable_class_helper.pxi:7088\u001b[0m, in \u001b[0;36mpandas._libs.hashtable.PyObjectHashTable.get_item\u001b[1;34m()\u001b[0m\n",
      "\u001b[1;31mKeyError\u001b[0m: 0",
      "\nThe above exception was the direct cause of the following exception:\n",
      "\u001b[1;31mKeyError\u001b[0m                                  Traceback (most recent call last)",
      "Cell \u001b[1;32mIn[15], line 1\u001b[0m\n\u001b[1;32m----> 1\u001b[0m computeMean(raisin)\n",
      "Cell \u001b[1;32mIn[4], line 3\u001b[0m, in \u001b[0;36mcomputeMean\u001b[1;34m(array)\u001b[0m\n\u001b[0;32m      1\u001b[0m \u001b[38;5;28;01mdef\u001b[39;00m \u001b[38;5;21mcomputeMean\u001b[39m(array):\n\u001b[0;32m      2\u001b[0m     numRows \u001b[38;5;241m=\u001b[39m \u001b[38;5;28mlen\u001b[39m(array)\n\u001b[1;32m----> 3\u001b[0m     numCols \u001b[38;5;241m=\u001b[39m \u001b[38;5;28mlen\u001b[39m(array[\u001b[38;5;241m0\u001b[39m])\n\u001b[0;32m      5\u001b[0m     colSums \u001b[38;5;241m=\u001b[39m [\u001b[38;5;241m0\u001b[39m] \u001b[38;5;241m*\u001b[39m numCols\n\u001b[0;32m      7\u001b[0m     \u001b[38;5;28;01mfor\u001b[39;00m row \u001b[38;5;129;01min\u001b[39;00m array:\n",
      "File \u001b[1;32m~\\anaconda3\\Lib\\site-packages\\pandas\\core\\frame.py:3761\u001b[0m, in \u001b[0;36mDataFrame.__getitem__\u001b[1;34m(self, key)\u001b[0m\n\u001b[0;32m   3759\u001b[0m \u001b[38;5;28;01mif\u001b[39;00m \u001b[38;5;28mself\u001b[39m\u001b[38;5;241m.\u001b[39mcolumns\u001b[38;5;241m.\u001b[39mnlevels \u001b[38;5;241m>\u001b[39m \u001b[38;5;241m1\u001b[39m:\n\u001b[0;32m   3760\u001b[0m     \u001b[38;5;28;01mreturn\u001b[39;00m \u001b[38;5;28mself\u001b[39m\u001b[38;5;241m.\u001b[39m_getitem_multilevel(key)\n\u001b[1;32m-> 3761\u001b[0m indexer \u001b[38;5;241m=\u001b[39m \u001b[38;5;28mself\u001b[39m\u001b[38;5;241m.\u001b[39mcolumns\u001b[38;5;241m.\u001b[39mget_loc(key)\n\u001b[0;32m   3762\u001b[0m \u001b[38;5;28;01mif\u001b[39;00m is_integer(indexer):\n\u001b[0;32m   3763\u001b[0m     indexer \u001b[38;5;241m=\u001b[39m [indexer]\n",
      "File \u001b[1;32m~\\anaconda3\\Lib\\site-packages\\pandas\\core\\indexes\\base.py:3655\u001b[0m, in \u001b[0;36mIndex.get_loc\u001b[1;34m(self, key)\u001b[0m\n\u001b[0;32m   3653\u001b[0m     \u001b[38;5;28;01mreturn\u001b[39;00m \u001b[38;5;28mself\u001b[39m\u001b[38;5;241m.\u001b[39m_engine\u001b[38;5;241m.\u001b[39mget_loc(casted_key)\n\u001b[0;32m   3654\u001b[0m \u001b[38;5;28;01mexcept\u001b[39;00m \u001b[38;5;167;01mKeyError\u001b[39;00m \u001b[38;5;28;01mas\u001b[39;00m err:\n\u001b[1;32m-> 3655\u001b[0m     \u001b[38;5;28;01mraise\u001b[39;00m \u001b[38;5;167;01mKeyError\u001b[39;00m(key) \u001b[38;5;28;01mfrom\u001b[39;00m \u001b[38;5;21;01merr\u001b[39;00m\n\u001b[0;32m   3656\u001b[0m \u001b[38;5;28;01mexcept\u001b[39;00m \u001b[38;5;167;01mTypeError\u001b[39;00m:\n\u001b[0;32m   3657\u001b[0m     \u001b[38;5;66;03m# If we have a listlike key, _check_indexing_error will raise\u001b[39;00m\n\u001b[0;32m   3658\u001b[0m     \u001b[38;5;66;03m#  InvalidIndexError. Otherwise we fall through and re-raise\u001b[39;00m\n\u001b[0;32m   3659\u001b[0m     \u001b[38;5;66;03m#  the TypeError.\u001b[39;00m\n\u001b[0;32m   3660\u001b[0m     \u001b[38;5;28mself\u001b[39m\u001b[38;5;241m.\u001b[39m_check_indexing_error(key)\n",
      "\u001b[1;31mKeyError\u001b[0m: 0"
     ]
    }
   ],
   "source": [
    "computeMean(raisin)"
   ]
  }
 ],
 "metadata": {
  "kernelspec": {
   "display_name": "Python 3 (ipykernel)",
   "language": "python",
   "name": "python3"
  },
  "language_info": {
   "codemirror_mode": {
    "name": "ipython",
    "version": 3
   },
   "file_extension": ".py",
   "mimetype": "text/x-python",
   "name": "python",
   "nbconvert_exporter": "python",
   "pygments_lexer": "ipython3",
   "version": "3.11.5"
  }
 },
 "nbformat": 4,
 "nbformat_minor": 5
}
